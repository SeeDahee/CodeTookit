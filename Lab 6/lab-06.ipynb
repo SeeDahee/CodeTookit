{
 "cells": [
  {
   "cell_type": "markdown",
   "metadata": {},
   "source": [
    "# Flask App\n",
    "\n",
    "In this example, we will build a Flask application that will deliver some custom data to users through an API.  Using our example from class, we aim to combine our webscraping work together with the Flask application development.  "
   ]
  },
  {
   "cell_type": "code",
   "execution_count": null,
   "metadata": {},
   "outputs": [],
   "source": [
    "import requests\n",
    "from bs4 import BeautifulSoup"
   ]
  },
  {
   "cell_type": "code",
   "execution_count": null,
   "metadata": {},
   "outputs": [],
   "source": [
    "from IPython.display import YouTubeVideo\n",
    "YouTubeVideo('EEhZAHZQyf4')"
   ]
  },
  {
   "cell_type": "code",
   "execution_count": null,
   "metadata": {},
   "outputs": [],
   "source": [
    "url = 'https://www.azlyrics.com/a/arianagrande.html'\n",
    "r = requests.get(url)\n",
    "soup = BeautifulSoup(r.text, 'html.parser')"
   ]
  },
  {
   "cell_type": "code",
   "execution_count": null,
   "metadata": {},
   "outputs": [],
   "source": [
    "albums = soup.find_all('h3', {'class': 'artist-album-label'})"
   ]
  },
  {
   "cell_type": "code",
   "execution_count": 77,
   "metadata": {},
   "outputs": [
    {
     "name": "stdout",
     "output_type": "stream",
     "text": [
      "Jason's Song (Gave It Away)\n",
      "Over and Over Again\n",
      "The Light Is Coming\n",
      "Put Your Hearts Up [2011]\n",
      "Victorious: Music from the Hit TV Show [2011]\n"
     ]
    }
   ],
   "source": [
    "for i in albums[:5]:\n",
    "    print(i.text)"
   ]
  },
  {
   "cell_type": "code",
   "execution_count": 80,
   "metadata": {},
   "outputs": [],
   "source": [
    "songs = soup.find_all('td', {'class': 'tal qx'})"
   ]
  },
  {
   "cell_type": "code",
   "execution_count": 81,
   "metadata": {},
   "outputs": [
    {
     "name": "stdout",
     "output_type": "stream",
     "text": [
      "Jason's Song (Gave It Away)\n",
      "Better Left Unsaid\n",
      "Be My Babyw/ Cashmere Cat\n",
      "Only 1\n",
      "E più ti penso [De \"Erase Una Vez En América/Malena\"]w/ Andrea Bocelli\n"
     ]
    }
   ],
   "source": [
    "for i in songs[::24][:5]:\n",
    "    print(i.text)"
   ]
  },
  {
   "cell_type": "code",
   "execution_count": 82,
   "metadata": {},
   "outputs": [
    {
     "data": {
      "text/plain": [
       "'/lyric/33312919/Ariana+Grande/Jason%27s+Song+%28Gave+It+Away%29'"
      ]
     },
     "execution_count": 82,
     "metadata": {},
     "output_type": "execute_result"
    }
   ],
   "source": [
    "songs[0].a.attrs['href']"
   ]
  },
  {
   "cell_type": "code",
   "execution_count": 88,
   "metadata": {},
   "outputs": [],
   "source": [
    "base = 'https://www.lyrics.com/'"
   ]
  },
  {
   "cell_type": "code",
   "execution_count": 89,
   "metadata": {},
   "outputs": [],
   "source": [
    "lyr = base + songs[0].a.attrs['href']\n",
    "import pandas as pd"
   ]
  },
  {
   "cell_type": "code",
   "execution_count": null,
   "metadata": {},
   "outputs": [],
   "source": [
    "def lookup():\n",
    "    artist = input(\"Who do you want to find? \")\n",
    "    if len(artist.split()) < 2:\n",
    "        url = 'https://www.azlyrics.com/' + artist.split(' ')[0].lower() \n",
    "    else:\n",
    "        url = 'https://www.azlyrics.com/ + artist.split(' ')[0].lower() \n",
    "    for i in range(1, len(artist.split())):\n",
    "        url = url + '%20' + artist.split(' ')[i].lower()\n",
    "    r = requests.get(url)\n",
    "    soup = BeautifulSoup(r.text, 'html.parser')\n",
    "    alb = []\n",
    "    s = []\n",
    "    ti = []\n",
    "    albums = soup.find_all('div', {'class': 'albums'})\n",
    "    for i in albums:\n",
    "        alb.append(i.text)\n",
    "    songs = soup.find_all('a', {'target': '_blank'})\n",
    "    for i in songs[::2]:\n",
    "        s.append(i.text)\n",
    "    for i in songs[1::2]:\n",
    "        ti.append(i.text)\n",
    "    base = 'https://www.azlyrics.com/'\n",
    "    l = []\n",
    "    for i in range(len(songs)):\n",
    "        if songs[i].a is None:\n",
    "            pass\n",
    "        else:\n",
    "            lyr = base + songs[i].a.attrs['href']\n",
    "            url = lyr\n",
    "            r = requests.get(url)\n",
    "            soup = BeautifulSoup(r.text, 'html.parser')\n",
    "            l.append(soup.find('pre', {'id': 'lyric-body-text'}).text)\n",
    "    df = pd.DataFrame({'song': s, 'time': ti, 'lyrics': l})\n",
    "    return df"
   ]
  },
  {
   "cell_type": "code",
   "execution_count": null,
   "metadata": {},
   "outputs": [],
   "source": [
    "lookup()"
   ]
  },
  {
   "cell_type": "code",
   "execution_count": null,
   "metadata": {},
   "outputs": [],
   "source": [
    "dokken = lookup()"
   ]
  },
  {
   "cell_type": "code",
   "execution_count": null,
   "metadata": {},
   "outputs": [],
   "source": [
    "type(dokken)"
   ]
  },
  {
   "cell_type": "code",
   "execution_count": null,
   "metadata": {},
   "outputs": [],
   "source": [
    "dokken.head()"
   ]
  },
  {
   "cell_type": "code",
   "execution_count": 15,
   "metadata": {},
   "outputs": [
    {
     "name": "stdout",
     "output_type": "stream",
     "text": [
      "Who you lookin for duder? the beatnuts\n"
     ]
    }
   ],
   "source": [
    "beatnuts = lookup()"
   ]
  },
  {
   "cell_type": "code",
   "execution_count": null,
   "metadata": {},
   "outputs": [],
   "source": [
    "beatnuts.head()"
   ]
  },
  {
   "cell_type": "code",
   "execution_count": null,
   "metadata": {},
   "outputs": [],
   "source": []
  }
 ],
 "metadata": {
  "kernelspec": {
   "display_name": "Python 3",
   "language": "python",
   "name": "python3"
  },
  "language_info": {
   "codemirror_mode": {
    "name": "ipython",
    "version": 3
   },
   "file_extension": ".py",
   "mimetype": "text/x-python",
   "name": "python",
   "nbconvert_exporter": "python",
   "pygments_lexer": "ipython3",
   "version": "3.6.5"
  }
 },
 "nbformat": 4,
 "nbformat_minor": 2
}
