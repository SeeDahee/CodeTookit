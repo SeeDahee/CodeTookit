{
 "cells": [
  {
   "cell_type": "markdown",
   "metadata": {},
   "source": [
    "# Flask App\n",
    "\n",
    "In this example, we will build a Flask application that will deliver some custom data to users through an API.  Using our example from class, we aim to combine our webscraping work together with the Flask application development.  "
   ]
  },
  {
   "cell_type": "raw",
   "metadata": {},
   "source": [
    "https://search.azlyrics.com/search.php?q=ariana+grande"
   ]
  },
  {
   "cell_type": "code",
   "execution_count": 13,
   "metadata": {},
   "outputs": [],
   "source": [
    "import requests\n",
    "from bs4 import BeautifulSoup"
   ]
  },
  {
   "cell_type": "code",
   "execution_count": 2,
   "metadata": {},
   "outputs": [],
   "source": [
    "base = 'https://search.azlyrics.com/search.php?q='"
   ]
  },
  {
   "cell_type": "code",
   "execution_count": 3,
   "metadata": {},
   "outputs": [
    {
     "name": "stdout",
     "output_type": "stream",
     "text": [
      "Who are you looking for? Ariana Grande\n"
     ]
    }
   ],
   "source": [
    "artist = input('Who are you looking for? ')"
   ]
  },
  {
   "cell_type": "code",
   "execution_count": 6,
   "metadata": {
    "scrolled": true
   },
   "outputs": [
    {
     "data": {
      "text/plain": [
       "'Ariana Grande'"
      ]
     },
     "execution_count": 6,
     "metadata": {},
     "output_type": "execute_result"
    }
   ],
   "source": [
    "artist"
   ]
  },
  {
   "cell_type": "code",
   "execution_count": 7,
   "metadata": {},
   "outputs": [
    {
     "data": {
      "text/plain": [
       "'ariana grande'"
      ]
     },
     "execution_count": 7,
     "metadata": {},
     "output_type": "execute_result"
    }
   ],
   "source": [
    "str.lower(artist)"
   ]
  },
  {
   "cell_type": "code",
   "execution_count": 8,
   "metadata": {},
   "outputs": [
    {
     "data": {
      "text/plain": [
       "['ariana', 'grande']"
      ]
     },
     "execution_count": 8,
     "metadata": {},
     "output_type": "execute_result"
    }
   ],
   "source": [
    "str.split(str.lower(artist))"
   ]
  },
  {
   "cell_type": "code",
   "execution_count": 9,
   "metadata": {},
   "outputs": [],
   "source": [
    "for i in str.split(str.lower(artist)):\n",
    "    base = base + '+' + str(i)"
   ]
  },
  {
   "cell_type": "code",
   "execution_count": 10,
   "metadata": {},
   "outputs": [
    {
     "data": {
      "text/plain": [
       "'https://search.azlyrics.com/search.php?q=+ariana+grande'"
      ]
     },
     "execution_count": 10,
     "metadata": {},
     "output_type": "execute_result"
    }
   ],
   "source": [
    "base"
   ]
  },
  {
   "cell_type": "code",
   "execution_count": 11,
   "metadata": {},
   "outputs": [],
   "source": [
    "from bs4 import BeautifulSoup"
   ]
  },
  {
   "cell_type": "code",
   "execution_count": 16,
   "metadata": {},
   "outputs": [],
   "source": [
    "def song_search():\n",
    "    base = 'https://search.azlyrics.com/search.php?q='\n",
    "    song = input('What do you want to find? ')\n",
    "    start = base + str.split(str.lower(song))[0]\n",
    "    for i in str.split(str.lower(song))[:2]:\n",
    "        start +=  '+' + str(i) \n",
    "    url = start + '&w=songs&p=1'\n",
    "    r = requests.get(url)\n",
    "    soup = BeautifulSoup(r.text, 'html.parser')\n",
    "    return url"
   ]
  },
  {
   "cell_type": "code",
   "execution_count": 17,
   "metadata": {},
   "outputs": [
    {
     "name": "stdout",
     "output_type": "stream",
     "text": [
      "What do you want to find? Thank U, Next\n"
     ]
    },
    {
     "data": {
      "text/plain": [
       "'https://search.azlyrics.com/search.php?q=thank+thank+u,&w=songs&p=1'"
      ]
     },
     "execution_count": 17,
     "metadata": {},
     "output_type": "execute_result"
    }
   ],
   "source": [
    "song_search()"
   ]
  },
  {
   "cell_type": "code",
   "execution_count": 18,
   "metadata": {},
   "outputs": [],
   "source": [
    "r = requests.get('https://search.azlyrics.com/search.php?q=thank+ariana+grande&w=songs&p=1')"
   ]
  },
  {
   "cell_type": "code",
   "execution_count": 19,
   "metadata": {},
   "outputs": [],
   "source": [
    "soup = BeautifulSoup(r.text, 'html.parser')"
   ]
  },
  {
   "cell_type": "code",
   "execution_count": 20,
   "metadata": {},
   "outputs": [],
   "source": [
    "nums = soup.find('small').text"
   ]
  },
  {
   "cell_type": "code",
   "execution_count": 35,
   "metadata": {},
   "outputs": [
    {
     "name": "stdout",
     "output_type": "stream",
     "text": [
      "False\n",
      "False\n",
      "True\n",
      "False\n",
      "False\n",
      "False\n"
     ]
    }
   ],
   "source": [
    "for i in nums.split(' '):\n",
    "    print(i.isdigit())"
   ]
  },
  {
   "cell_type": "code",
   "execution_count": 21,
   "metadata": {},
   "outputs": [
    {
     "name": "stdout",
     "output_type": "stream",
     "text": [
      "What do you want to find? R\n",
      "There are 50.0 pages of Ariana Grande songs\n"
     ]
    }
   ],
   "source": [
    "r = requests.get(song_search())\n",
    "soup = BeautifulSoup(r.text, 'html.parser')\n",
    "nums = soup.find('small').text\n",
    "\n",
    "\n",
    "digit = 0\n",
    "for i in nums.split(' '):\n",
    "    if i.isdigit() == True:\n",
    "        digit = int(i)\n",
    "    else:\n",
    "        pass\n",
    "import numpy as np\n",
    "page_num = np.ceil(digit/20)\n",
    "print('There are {} pages of {} songs'.format(page_num, artist))"
   ]
  },
  {
   "cell_type": "code",
   "execution_count": 22,
   "metadata": {},
   "outputs": [
    {
     "name": "stdout",
     "output_type": "stream",
     "text": [
      "What do you want to find? Thank U, Next\n"
     ]
    }
   ],
   "source": [
    "url = song_search()"
   ]
  },
  {
   "cell_type": "code",
   "execution_count": 23,
   "metadata": {},
   "outputs": [],
   "source": [
    "r = requests.get(url)\n",
    "soup = BeautifulSoup(r.text, 'html.parser')"
   ]
  },
  {
   "cell_type": "code",
   "execution_count": 24,
   "metadata": {},
   "outputs": [
    {
     "data": {
      "text/plain": [
       "<Response [200]>"
      ]
     },
     "execution_count": 24,
     "metadata": {},
     "output_type": "execute_result"
    }
   ],
   "source": [
    "r"
   ]
  },
  {
   "cell_type": "code",
   "execution_count": 53,
   "metadata": {},
   "outputs": [
    {
     "data": {
      "text/plain": [
       "<table class=\"table table-condensed\">\n",
       "<tr><td class=\"text-left visitedlyr\">\n",
       "                    1. <a href=\"https://www.azlyrics.com/lyrics/arianagrande/thankunext.html\" target=\"_blank\"><b>thank u, next</b></a>  by <b>Ariana Grande</b><br/>\n",
       "<small>hat I see (Yeah, yeah) 'Cause look what I've found (Yeah, yeah) Ain't no need for searching And for that, I say <strong>Thank</strong> you, next (<strong>Thank</strong> you, next) <strong>Thank</strong> you, next (<strong>Thank</strong> you, next) <strong>Thank</strong> you, next I'm so fuckin' grateful for my ex <strong>Thank</strong> you, next (<strong>Thank</strong> you, next) <strong>Thank</strong> you, next (Said <strong>thank</strong> you, nex...</small>\n",
       "</td></tr>\n",
       "<tr><td class=\"text-left visitedlyr\">\n",
       "                    2. <a href=\"https://www.azlyrics.com/lyrics/arianagrande/letitrain.html\" target=\"_blank\"><b>Let It Rain</b></a>  by <b>Ariana Grande</b><br/>\n",
       "<small>What it will be it will be I let it rain Why was your whole life fulfilled Ah, oh, ah, oh Well I think it's getting dark out baby No thanks I don't need your yellow umbrella ever right now Ah, oh, ah, oh Well you better get in the car Could you move ...</small>\n",
       "</td></tr>\n",
       "<tr><td class=\"text-left visitedlyr\">\n",
       "                    3. <a href=\"https://www.azlyrics.com/lyrics/jasonchen/thankunext.html\" target=\"_blank\"><b>thank u, next</b></a>  by <b>Jason Chen</b><br/>\n",
       "<small>And for that, I say <strong>Thank</strong> you, next (<strong>Thank</strong> you, next) <strong>Thank</strong> you, next (<strong>Thank</strong> you, next) <strong>Thank</strong> you, next I'm so I'm so grateful for my ex <strong>Thank</strong> you, next (<strong>Thank</strong> you, next) <strong>Thank</strong> you, next (Said <strong>thank</strong> you, next) <strong>Thank</strong> you, next I'm so I'm so grateful for my ...</small>\n",
       "</td></tr>\n",
       "<tr><td class=\"text-left visitedlyr\">\n",
       "                    4. <a href=\"https://www.azlyrics.com/lyrics/tiffanyalvord/thankunext.html\" target=\"_blank\"><b>Thank U, Next</b></a>  by <b>Tiffany Alvord</b><br/>\n",
       "<small>r searching, and for that, I say <strong>Thank</strong> you, next (Next) <strong>Thank</strong> you, next (Next) <strong>Thank</strong> you, next I'm so very thankful for my ex <strong>Thank</strong> you, next (Next) <strong>Thank</strong> you, next (Next) <strong>Thank</strong> you I'm so very thankful for my ex <strong>Thank</strong> you, next <strong>Thank</strong> you, next <strong>Thank</strong> you,...</small>\n",
       "</td></tr>\n",
       "<tr><td class=\"text-left visitedlyr\">\n",
       "                    5. <a href=\"https://www.azlyrics.com/lyrics/josephvincent/thankunext.html\" target=\"_blank\"><b>thank u, next</b></a>  by <b>Joseph Vincent</b><br/>\n",
       "<small> what I see So, look what I got Look what you taught me And for that I say <strong>Thank</strong> you, next <strong>Thank</strong> you, next <strong>Thank</strong> you, next I'm so fuckin' grateful for my ex <strong>Thank</strong> you, next <strong>Thank</strong> you, next <strong>Thank</strong> you, next I'm so fuckin'... Spend more time with my fri...</small>\n",
       "</td></tr>\n",
       "<tr><td class=\"text-left visitedlyr\">\n",
       "                    6. <a href=\"https://www.azlyrics.com/lyrics/alexaiono/thankunextdriptoohardsunflowermashup.html\" target=\"_blank\"><b>Thank U, Next / Drip Too Hard / Sunflower Mashup</b></a>  by <b>Alex Aiono</b><br/>\n",
       "<small>not what I see Look what I've got Look what you taught me And for that, I say <strong>Thank</strong> you, next <strong>Thank</strong> you, next <strong>Thank</strong> you, next I'm so, I'm so grateful for my ex <strong>Thank</strong> you, next <strong>Thank</strong> you, next <strong>Thank</strong> you, next I'm so, I'm so grateful for my— Drip too h...</small>\n",
       "</td></tr>\n",
       "<tr><td class=\"text-left visitedlyr\">\n",
       "                    7. <a href=\"https://www.azlyrics.com/lyrics/danbull/bullshot.html\" target=\"_blank\"><b>Bullshot</b></a>  by <b>Dan Bull</b><br/>\n",
       "<small>I said \"Fuh you, don't spoil my party\" No one wants any more of the Carters We only want Jay-Z or Beyonce I can't say anything about <strong>Ariana</strong> <strong>Grande</strong> Without making a teardrop Andrew Huang makes music out of anything Why not make it out of earshot My ca...</small>\n",
       "</td></tr>\n",
       "</table>"
      ]
     },
     "execution_count": 53,
     "metadata": {},
     "output_type": "execute_result"
    }
   ],
   "source": [
    "soup.find('table', {'class': 'table table-condensed'})"
   ]
  },
  {
   "cell_type": "code",
   "execution_count": 25,
   "metadata": {},
   "outputs": [
    {
     "data": {
      "text/plain": [
       "'https://search.azlyrics.com/search.php?q=thank+thank+u,&w=songs&p=1'"
      ]
     },
     "execution_count": 25,
     "metadata": {},
     "output_type": "execute_result"
    }
   ],
   "source": [
    "url"
   ]
  },
  {
   "cell_type": "code",
   "execution_count": 26,
   "metadata": {},
   "outputs": [],
   "source": [
    "tables = soup.find('table', {'class': 'table table-condensed'}).find_all('tr')"
   ]
  },
  {
   "cell_type": "code",
   "execution_count": 27,
   "metadata": {},
   "outputs": [
    {
     "name": "stdout",
     "output_type": "stream",
     "text": [
      "https://www.azlyrics.com/lyrics/arianagrande/thankunext.html\n",
      "https://www.azlyrics.com/lyrics/sizzla/thankumamma.html\n",
      "https://www.azlyrics.com/lyrics/jasonchen/thankunext.html\n",
      "https://www.azlyrics.com/lyrics/alanismorissette/thanku.html\n",
      "https://www.azlyrics.com/lyrics/tiffanyalvord/thankunext.html\n",
      "https://www.azlyrics.com/lyrics/michellewilliams/thanku.html\n",
      "https://www.azlyrics.com/lyrics/future/ithanku.html\n",
      "https://www.azlyrics.com/lyrics/josephvincent/thankunext.html\n",
      "https://www.azlyrics.com/lyrics/alexaiono/thankunextdriptoohardsunflowermashup.html\n",
      "https://www.azlyrics.com/lyrics/e40/thanku.html\n",
      "https://www.azlyrics.com/lyrics/boyziimen/thankuinadvance.html\n",
      "https://www.azlyrics.com/lyrics/2faceidibia/thankyoulord.html\n",
      "https://www.azlyrics.com/lyrics/beamiller/slut.html\n",
      "https://www.azlyrics.com/lyrics/ginuwine/thankyous.html\n",
      "https://www.azlyrics.com/lyrics/macklemore/cantholdus.html\n",
      "https://www.azlyrics.com/lyrics/monica/thanksforthemisery.html\n",
      "https://www.azlyrics.com/lyrics/rkelly/usavedme.html\n",
      "https://www.azlyrics.com/lyrics/prince/iwishuheaven.html\n",
      "https://www.azlyrics.com/lyrics/prince/takemewithu.html\n",
      "https://www.azlyrics.com/lyrics/destinyschild/outrodc3thankyou.html\n"
     ]
    }
   ],
   "source": [
    "for i in tables[1:21]:\n",
    "    print(i.a.attrs['href'])"
   ]
  },
  {
   "cell_type": "code",
   "execution_count": 28,
   "metadata": {},
   "outputs": [],
   "source": [
    "start = url[:-1]\n",
    "page_links = []\n",
    "for i in range(0, int(page_num)):\n",
    "    page_links.append(start + str(i))"
   ]
  },
  {
   "cell_type": "code",
   "execution_count": null,
   "metadata": {},
   "outputs": [],
   "source": [
    "song_links = []\n",
    "for link in page_links:\n",
    "    r = requests.get(link)\n",
    "    soup = BeautifulSoup(r.text, 'html.parser')\n",
    "    rows = soup.find_all('tr')\n",
    "    for i in rows[2:-1]:\n",
    "        song_links.append(i.a.attrs['href'])"
   ]
  },
  {
   "cell_type": "code",
   "execution_count": null,
   "metadata": {},
   "outputs": [],
   "source": [
    "song_links[30:40]"
   ]
  },
  {
   "cell_type": "code",
   "execution_count": null,
   "metadata": {},
   "outputs": [],
   "source": [
    "from nltk import word_tokenize\n",
    "import time\n",
    "\n",
    "wrds = []\n",
    "for i in song_links[:3]:\n",
    "    r = requests.get(i)\n",
    "    time.sleep(5)\n",
    "    soup = BeautifulSoup(r.text, 'html.parser')\n",
    "    low_bound = soup.text.find('lyrics')\n",
    "    upper_bound = soup.text.find('Android')\n",
    "    lyrs = soup.text[low_bound:upper_bound]\n",
    "    wrds = []\n",
    "    for word in word_tokenize(lyrs):\n",
    "        if word.isalpha() == True:\n",
    "            wrds.append(word)"
   ]
  },
  {
   "cell_type": "code",
   "execution_count": null,
   "metadata": {},
   "outputs": [],
   "source": [
    "from nltk import FreqDist\n",
    "%matplotlib inline\n",
    "import matplotlib.pyplot as plt"
   ]
  },
  {
   "cell_type": "code",
   "execution_count": null,
   "metadata": {},
   "outputs": [],
   "source": [
    "FreqDist(wrds).plot(20)"
   ]
  },
  {
   "cell_type": "code",
   "execution_count": null,
   "metadata": {},
   "outputs": [],
   "source": []
  },
  {
   "cell_type": "code",
   "execution_count": null,
   "metadata": {},
   "outputs": [],
   "source": [
    "import re"
   ]
  },
  {
   "cell_type": "code",
   "execution_count": null,
   "metadata": {},
   "outputs": [],
   "source": []
  },
  {
   "cell_type": "code",
   "execution_count": null,
   "metadata": {},
   "outputs": [],
   "source": [
    "lyrs"
   ]
  },
  {
   "cell_type": "code",
   "execution_count": 71,
   "metadata": {},
   "outputs": [
    {
     "data": {
      "text/plain": [
       "['of',\n",
       " 'us',\n",
       " 'nobody',\n",
       " 'knows',\n",
       " 'us',\n",
       " 'Get',\n",
       " 'in',\n",
       " 'the',\n",
       " 'car',\n",
       " 'like',\n",
       " 'Skrrt',\n",
       " 'Staying',\n",
       " 'up',\n",
       " 'all',\n",
       " 'night',\n",
       " 'order',\n",
       " 'me',\n",
       " 'pad',\n",
       " 'thai',\n",
       " 'Then',\n",
       " 'we',\n",
       " 'gon',\n",
       " 'sleep',\n",
       " 'til',\n",
       " 'noon',\n",
       " 'Me',\n",
       " 'with',\n",
       " 'no',\n",
       " 'makeup',\n",
       " 'you',\n",
       " 'in',\n",
       " 'the',\n",
       " 'bathtub',\n",
       " 'Bubbles',\n",
       " 'and',\n",
       " 'bubbly',\n",
       " 'ooh',\n",
       " 'This',\n",
       " 'is',\n",
       " 'a',\n",
       " 'pleasure',\n",
       " 'feel',\n",
       " 'like',\n",
       " 'we',\n",
       " 'never',\n",
       " 'act',\n",
       " 'this',\n",
       " 'regular',\n",
       " 'Click',\n",
       " 'click',\n",
       " 'click',\n",
       " 'and',\n",
       " 'post',\n",
       " 'Drip',\n",
       " 'drip',\n",
       " 'dripped',\n",
       " 'in',\n",
       " 'gold',\n",
       " 'Quick',\n",
       " 'quick',\n",
       " 'quick',\n",
       " 'let',\n",
       " 's',\n",
       " 'go',\n",
       " 'Kiss',\n",
       " 'me',\n",
       " 'and',\n",
       " 'take',\n",
       " 'off',\n",
       " 'your',\n",
       " 'clothes',\n",
       " 'Imagine',\n",
       " 'a',\n",
       " 'world',\n",
       " 'like',\n",
       " 'that',\n",
       " 'Imagine',\n",
       " 'a',\n",
       " 'world',\n",
       " 'like',\n",
       " 'that',\n",
       " 'We',\n",
       " 'go',\n",
       " 'like',\n",
       " 'up',\n",
       " 'til',\n",
       " 'I',\n",
       " 'm',\n",
       " 'sleep',\n",
       " 'on',\n",
       " 'your',\n",
       " 'chest',\n",
       " 'Love',\n",
       " 'how',\n",
       " 'my',\n",
       " 'face',\n",
       " 'fits',\n",
       " 'so',\n",
       " 'good',\n",
       " 'in',\n",
       " 'your',\n",
       " 'neck',\n",
       " 'Why',\n",
       " 'can',\n",
       " 't',\n",
       " 'you',\n",
       " 'imagine',\n",
       " 'a',\n",
       " 'world',\n",
       " 'like',\n",
       " 'that',\n",
       " 'Imagine',\n",
       " 'a',\n",
       " 'world',\n",
       " 'Knew',\n",
       " 'you',\n",
       " 'were',\n",
       " 'perfect',\n",
       " 'after',\n",
       " 'the',\n",
       " 'first',\n",
       " 'kiss',\n",
       " 'Took',\n",
       " 'a',\n",
       " 'deep',\n",
       " 'breath',\n",
       " 'like',\n",
       " 'Ooh',\n",
       " 'Feels',\n",
       " 'like',\n",
       " 'forever',\n",
       " 'baby',\n",
       " 'I',\n",
       " 'never',\n",
       " 'thought',\n",
       " 'that',\n",
       " 'it',\n",
       " 'would',\n",
       " 'be',\n",
       " 'you',\n",
       " 'Tell',\n",
       " 'me',\n",
       " 'your',\n",
       " 'secrets',\n",
       " 'all',\n",
       " 'of',\n",
       " 'the',\n",
       " 'creep',\n",
       " 'shit',\n",
       " 'That',\n",
       " 's',\n",
       " 'how',\n",
       " 'I',\n",
       " 'know',\n",
       " 'it',\n",
       " 's',\n",
       " 'true',\n",
       " 'Baby',\n",
       " 'direct',\n",
       " 'it',\n",
       " 'name',\n",
       " 'in',\n",
       " 'the',\n",
       " 'credits',\n",
       " 'Like',\n",
       " 'the',\n",
       " 'movies',\n",
       " 'ooh',\n",
       " 'Click',\n",
       " 'click',\n",
       " 'click',\n",
       " 'and',\n",
       " 'post',\n",
       " 'Drip',\n",
       " 'drip',\n",
       " 'dripped',\n",
       " 'in',\n",
       " 'gold',\n",
       " 'Quick',\n",
       " 'quick']"
      ]
     },
     "execution_count": 71,
     "metadata": {},
     "output_type": "execute_result"
    }
   ],
   "source": [
    "regex = re.compile('\\w+')\n",
    "re.findall(regex, soup.text[1102:1998])"
   ]
  },
  {
   "cell_type": "code",
   "execution_count": null,
   "metadata": {},
   "outputs": [],
   "source": []
  },
  {
   "cell_type": "code",
   "execution_count": null,
   "metadata": {},
   "outputs": [],
   "source": []
  },
  {
   "cell_type": "code",
   "execution_count": 72,
   "metadata": {},
   "outputs": [
    {
     "data": {
      "text/plain": [
       "2553"
      ]
     },
     "execution_count": 72,
     "metadata": {},
     "output_type": "execute_result"
    }
   ],
   "source": [
    "soup.text.find('Android')"
   ]
  },
  {
   "cell_type": "code",
   "execution_count": 73,
   "metadata": {},
   "outputs": [],
   "source": [
    "url = 'https://search.azlyrics.com/search.php?q=ariana+grande&w=songs&p=1'"
   ]
  },
  {
   "cell_type": "code",
   "execution_count": 74,
   "metadata": {},
   "outputs": [],
   "source": [
    "r = requests.get(url)"
   ]
  },
  {
   "cell_type": "code",
   "execution_count": 75,
   "metadata": {},
   "outputs": [],
   "source": [
    "soup = BeautifulSoup(r.text, 'html.parser')"
   ]
  },
  {
   "cell_type": "code",
   "execution_count": 76,
   "metadata": {},
   "outputs": [
    {
     "data": {
      "text/plain": [
       "<td>\n",
       "<b>1</b>\n",
       "<a class=\"btn btn-share btn-nav\" href=\"?q=ariana+grande&amp;w=songs&amp;p=2\">2</a>\n",
       "<a class=\"btn btn-share btn-nav\" href=\"?q=ariana+grande&amp;w=songs&amp;p=3\">3</a>\n",
       "<a class=\"btn btn-share btn-nav\" href=\"?q=ariana+grande&amp;w=songs&amp;p=4\">4</a>\n",
       "<a class=\"btn btn-share btn-nav\" href=\"?q=ariana+grande&amp;w=songs&amp;p=5\">5</a>\n",
       "<a class=\"btn btn-share btn-nav\" href=\"?q=ariana+grande&amp;w=songs&amp;p=6\">6</a>\n",
       "<a class=\"btn btn-share btn-nav\" href=\"?q=ariana+grande&amp;w=songs&amp;p=7\">7</a>\n",
       "<a class=\"btn btn-share btn-nav\" href=\"?q=ariana+grande&amp;w=songs&amp;p=2\"><span class=\"glyphicon glyphicon-chevron-right\"></span></a>\n",
       "</td>"
      ]
     },
     "execution_count": 76,
     "metadata": {},
     "output_type": "execute_result"
    }
   ],
   "source": [
    "soup.find('td')"
   ]
  },
  {
   "cell_type": "code",
   "execution_count": 77,
   "metadata": {},
   "outputs": [
    {
     "name": "stdout",
     "output_type": "stream",
     "text": [
      "https://www.azlyrics.com/lyrics/arianagrande/imagine.html\n",
      "https://www.azlyrics.com/lyrics/arianagrande/thankunext.html\n",
      "https://www.azlyrics.com/lyrics/arianagrande/breathin.html\n",
      "https://www.azlyrics.com/lyrics/arianagrande/beautyandthebeast.html\n",
      "https://www.azlyrics.com/lyrics/arianagrande/sidetoside.html\n",
      "https://www.azlyrics.com/lyrics/arianagrande/problem.html\n",
      "https://www.azlyrics.com/lyrics/arianagrande/notearslefttocry.html\n",
      "https://www.azlyrics.com/lyrics/arianagrande/godisawoman.html\n",
      "https://www.azlyrics.com/lyrics/arianagrande/borderline.html\n",
      "https://www.azlyrics.com/lyrics/arianagrande/everyday.html\n",
      "https://www.azlyrics.com/lyrics/arianagrande/santatellme.html\n",
      "https://www.azlyrics.com/lyrics/arianagrande/blazed.html\n",
      "https://www.azlyrics.com/lyrics/arianagrande/lovemeharder.html\n",
      "https://www.azlyrics.com/lyrics/arianagrande/leavemelonely.html\n",
      "https://www.azlyrics.com/lyrics/arianagrande/letmeloveyou.html\n",
      "https://www.azlyrics.com/lyrics/arianagrande/thelightiscoming.html\n",
      "https://www.azlyrics.com/lyrics/arianagrande/doyouloveme.html\n",
      "https://www.azlyrics.com/lyrics/arianagrande/onelasttimeattendsmoi.html\n",
      "https://www.azlyrics.com/lyrics/arianagrande/handsonme.html\n"
     ]
    }
   ],
   "source": [
    "url = 'https://search.azlyrics.com/search.php?q=ariana+grande&w=songs&p=1'\n",
    "r = requests.get(url)\n",
    "soup = BeautifulSoup(r.text, 'html.parser')\n",
    "rows = soup.find_all('tr')\n",
    "for i in rows[2:-1]:\n",
    "    print(i.a.attrs['href'])"
   ]
  },
  {
   "cell_type": "code",
   "execution_count": 59,
   "metadata": {},
   "outputs": [
    {
     "name": "stdout",
     "output_type": "stream",
     "text": [
      "https://www.azlyrics.com/lyrics/arianagrande/imagine.html\n",
      "https://www.azlyrics.com/lyrics/arianagrande/thankunext.html\n",
      "https://www.azlyrics.com/lyrics/arianagrande/breathin.html\n",
      "https://www.azlyrics.com/lyrics/arianagrande/beautyandthebeast.html\n",
      "https://www.azlyrics.com/lyrics/arianagrande/sidetoside.html\n",
      "https://www.azlyrics.com/lyrics/arianagrande/problem.html\n",
      "https://www.azlyrics.com/lyrics/arianagrande/notearslefttocry.html\n",
      "https://www.azlyrics.com/lyrics/arianagrande/godisawoman.html\n",
      "https://www.azlyrics.com/lyrics/arianagrande/borderline.html\n",
      "https://www.azlyrics.com/lyrics/arianagrande/everyday.html\n",
      "https://www.azlyrics.com/lyrics/arianagrande/santatellme.html\n",
      "https://www.azlyrics.com/lyrics/arianagrande/blazed.html\n",
      "https://www.azlyrics.com/lyrics/arianagrande/lovemeharder.html\n",
      "https://www.azlyrics.com/lyrics/arianagrande/leavemelonely.html\n",
      "https://www.azlyrics.com/lyrics/arianagrande/letmeloveyou.html\n",
      "https://www.azlyrics.com/lyrics/arianagrande/thelightiscoming.html\n",
      "https://www.azlyrics.com/lyrics/arianagrande/doyouloveme.html\n",
      "https://www.azlyrics.com/lyrics/arianagrande/onelasttimeattendsmoi.html\n",
      "https://www.azlyrics.com/lyrics/arianagrande/handsonme.html\n"
     ]
    }
   ],
   "source": [
    "for i in rows[2:-1]:\n",
    "    print(i.a.attrs['href'])"
   ]
  },
  {
   "cell_type": "code",
   "execution_count": 78,
   "metadata": {},
   "outputs": [],
   "source": [
    "lyr = requests.get(str(rows[2].a.attrs['href']))"
   ]
  },
  {
   "cell_type": "code",
   "execution_count": 79,
   "metadata": {},
   "outputs": [],
   "source": [
    "lyr_soup = BeautifulSoup(lyr.text, 'html.parser')"
   ]
  },
  {
   "cell_type": "code",
   "execution_count": 80,
   "metadata": {},
   "outputs": [],
   "source": [
    "lyr_soup.find('p')"
   ]
  },
  {
   "cell_type": "code",
   "execution_count": 81,
   "metadata": {},
   "outputs": [
    {
     "data": {
      "text/plain": [
       "<div id=\"fb-root\"></div>"
      ]
     },
     "execution_count": 81,
     "metadata": {},
     "output_type": "execute_result"
    }
   ],
   "source": [
    "lyr_soup.div"
   ]
  },
  {
   "cell_type": "code",
   "execution_count": 90,
   "metadata": {},
   "outputs": [],
   "source": [
    "main = lyr_soup.find('div', {'class': 'col-xs-12 col-lg-8 text-center'})"
   ]
  },
  {
   "cell_type": "code",
   "execution_count": null,
   "metadata": {},
   "outputs": [],
   "source": []
  },
  {
   "cell_type": "code",
   "execution_count": 83,
   "metadata": {},
   "outputs": [],
   "source": [
    "import re"
   ]
  },
  {
   "cell_type": "code",
   "execution_count": 84,
   "metadata": {},
   "outputs": [],
   "source": [
    "regex = re.compile('[^\\s,\\\":\\]\\[?)(]+')"
   ]
  },
  {
   "cell_type": "code",
   "execution_count": 85,
   "metadata": {},
   "outputs": [
    {
     "data": {
      "text/plain": [
       "bs4.element.Tag"
      ]
     },
     "execution_count": 85,
     "metadata": {},
     "output_type": "execute_result"
    }
   ],
   "source": [
    "type(main)"
   ]
  },
  {
   "cell_type": "code",
   "execution_count": 86,
   "metadata": {},
   "outputs": [],
   "source": [
    "words = re.findall(regex, main.text)"
   ]
  },
  {
   "cell_type": "code",
   "execution_count": 87,
   "metadata": {},
   "outputs": [],
   "source": [
    "lyrics = []\n",
    "sent = ' '\n",
    "for word in words:\n",
    "    if word.islower() == True:\n",
    "        sent = sent + ' ' + word\n",
    "    else:\n",
    "        sent = sent + '. ' + word\n",
    "for i in sent.split('.'):\n",
    "        if i.find('Android'):\n",
    "            pass\n",
    "        elif len(i)>6:\n",
    "            lyrics.append(i)\n",
    "        else:\n",
    "            pass\n",
    "        \n",
    "        "
   ]
  },
  {
   "cell_type": "code",
   "execution_count": 89,
   "metadata": {},
   "outputs": [
    {
     "ename": "SyntaxError",
     "evalue": "invalid syntax (<ipython-input-89-6d7ad7f7aefa>, line 1)",
     "output_type": "error",
     "traceback": [
      "\u001b[0;36m  File \u001b[0;32m\"<ipython-input-89-6d7ad7f7aefa>\"\u001b[0;36m, line \u001b[0;32m1\u001b[0m\n\u001b[0;31m    htmlbody(/div[3]/div/div[2]/div[5])\u001b[0m\n\u001b[0m             ^\u001b[0m\n\u001b[0;31mSyntaxError\u001b[0m\u001b[0;31m:\u001b[0m invalid syntax\n"
     ]
    }
   ],
   "source": [
    "/html/body/div[3]/div/div[2]/div[5]"
   ]
  },
  {
   "cell_type": "code",
   "execution_count": 91,
   "metadata": {},
   "outputs": [
    {
     "name": "stdout",
     "output_type": "stream",
     "text": [
      "  imagine lyrics\n",
      " Ariana\n",
      " Grande\n",
      " Lyrics imagine\n",
      " Step up the two of us nobody knows us\n",
      " Get in the car like\n",
      " Staying up all night order me pad thai\n",
      " Then we gon' sleep 'til noon\n",
      " Me with no makeup you in the bathtub\n",
      " Bubbles and bubbly ooh\n",
      " This is a pleasure feel like we never act this regular\n",
      " Click click click and post\n",
      " Drip-drip-dripped in gold\n",
      " Quick quick quick let's go\n",
      " Kiss me and take off your clothes\n",
      " Imagine a world like that\n",
      " Imagine a world like that\n",
      " We go like up 'til\n",
      " I'm 'sleep on your chest\n",
      " Love how my face fits so good in your neck\n",
      " Why can't you imagine a world like that\n",
      " Imagine a world\n",
      " Knew you were perfect after the first kiss\n",
      " Took a deep breath like\n",
      " Feels like forever baby\n",
      " I never thought that it would be you\n",
      " Tell me your secrets all of the creep shit\n",
      " That's how\n",
      " I know it's true\n",
      " Baby direct it name in the credits\n",
      " Like the movies ooh\n",
      " Click click click and post\n",
      " Drip-drip-dripped in gold\n",
      " Quick quick quick let's go\n",
      " Kiss me and take off your clothes\n",
      " Imagine a world like that\n",
      " Imagine a world like that\n",
      " We go like up 'til\n",
      " I'm 'sleep on your chest\n",
      " Love how my face fits so good in your neck\n",
      " Why can't you imagine a world like that\n",
      " Imagine a world\n",
      " Can you imagine it\n",
      " Can you imagine it\n",
      " Can you imagine it\n",
      " Can you imagine it\n",
      " Can you imagine it\n",
      " Can you imagine\n",
      " Can you imagine it\n",
      " Can you imagine\n",
      " Can you imagine it\n",
      " Imagine that\n",
      " Imagine it imagine it\n",
      " Imagine it imagine it\n",
      " Imagine imagine\n",
      " Imagine imagine\n",
      " Imagine imagine if\n",
      " /Android|webOS|iPhone|iPod|iPad|BlackBerry|IEMobile|Opera\n",
      " Mini/i\n",
      " navigator\n",
      "userAgent\n",
      " { document\n",
      "write '<div style= margin-left auto; margin-right auto;\n",
      " >'+ '<iframe scrolling= no style= border 0px none; overflow hidden; src=\n",
      "net/br/t1\n",
      "0/m_js/e_0/sn_0/l_18582872/su_0/rs_0/tr_3vUCAG7kQ1HS6B7QrQ2Dadb0N0uqQNe6P05kyQ6DeBoYxlN8uurUlkSZ9mMEOctjSXwa3lkx2AzjtR17NfAReBE1tgXQkQtaT_TIYNMFiIgTrahbXjQKYhgF5WkkFpVngp3vjdSpPrY4UtHNOiPM5xs8bDsoxjjvsXj3scBNejh1sOiogW1w2BjJAmgiZPQ95Mt23AO022urW91dgbgQuRARgl7pPxnmPQddG8YEuAaxWfZvdM05aX-PljS2YIMSKA9wEwgXrlwUVCfzhLDOSyTyXZgHOZeV8g1lDRzNO8fEJn9PKoPts-KZEetjTxsVYvLIQpZupye3CeiOEHRDAgMvUqmPyV5Dsrg_pH9aZhfpJBDVAcPUOnDQeifpJeVz5DQ_drAv8wEgYXquXS2Zw-mjpLasX3laTPskx2lflGTn4hYx5oMm8_nWUOQPpT0/ width= 290px height= 50px ></iframe>'+ '</div>'\n",
      " Submit\n",
      " Corrections\n",
      " Thanks to\n",
      " Chel for adding these lyrics\n",
      " imagine is the second single from\n",
      " Ariana\n",
      " Grande's 5th studio album thank u next\n",
      " The song was premiered on\n",
      " December\n",
      " AZLyrics\n",
      " Ariana\n",
      " Grande\n",
      " Lyrics album thank u next\n",
      " 2018 imagine thank u next\n",
      " Search\n"
     ]
    }
   ],
   "source": [
    "for i in sent.split('.'):\n",
    "    if len(i)>6:\n",
    "        print(i)\n",
    "    else:\n",
    "        pass"
   ]
  },
  {
   "cell_type": "code",
   "execution_count": 96,
   "metadata": {},
   "outputs": [],
   "source": [
    "## change it up\n",
    "import requests\n",
    "from bs4 import BeautifulSoup\n",
    "url = 'https://www.lyrics.com/artist/Ariana-Grande/1223462'\n",
    "r = requests.get(url)\n",
    "soup = BeautifulSoup(r.text, 'html.parser')"
   ]
  },
  {
   "cell_type": "code",
   "execution_count": 97,
   "metadata": {},
   "outputs": [],
   "source": [
    "albums = soup.find_all('h3', {'class': 'artist-album-label'})"
   ]
  },
  {
   "cell_type": "code",
   "execution_count": 98,
   "metadata": {},
   "outputs": [
    {
     "name": "stdout",
     "output_type": "stream",
     "text": [
      "Jason's Song (Gave It Away)\n",
      "Over and Over Again\n",
      "The Light Is Coming\n",
      "Put Your Hearts Up [2011]\n",
      "Victorious: Music from the Hit TV Show [2011]\n"
     ]
    }
   ],
   "source": [
    "for i in albums[:5]:\n",
    "    print(i.text)"
   ]
  },
  {
   "cell_type": "code",
   "execution_count": 99,
   "metadata": {},
   "outputs": [],
   "source": [
    "songs = soup.find_all('td', {'class': 'tal qx'})"
   ]
  },
  {
   "cell_type": "code",
   "execution_count": 100,
   "metadata": {},
   "outputs": [
    {
     "name": "stdout",
     "output_type": "stream",
     "text": [
      "Jason's Song (Gave It Away)\n",
      "Over and Over Againw/ Nathan Sykes\n",
      "The Light Is Comingw/ Nicki Minaj\n",
      "Put Your Hearts Up\n",
      "Give It Upw/ Victorious Cast, Elizabeth Gillies\n"
     ]
    }
   ],
   "source": [
    "for i in songs[::2][:5]:\n",
    "    print(i.text)"
   ]
  },
  {
   "cell_type": "code",
   "execution_count": 101,
   "metadata": {},
   "outputs": [
    {
     "data": {
      "text/plain": [
       "'/lyric/33312919/Ariana+Grande/Jason%27s+Song+%28Gave+It+Away%29'"
      ]
     },
     "execution_count": 101,
     "metadata": {},
     "output_type": "execute_result"
    }
   ],
   "source": [
    "songs[0].a.attrs['href']"
   ]
  },
  {
   "cell_type": "code",
   "execution_count": 102,
   "metadata": {},
   "outputs": [],
   "source": [
    "base = 'https://www.lyrics.com/'"
   ]
  },
  {
   "cell_type": "code",
   "execution_count": 103,
   "metadata": {},
   "outputs": [],
   "source": [
    "lyr = base + songs[0].a.attrs['href']\n",
    "import pandas as pd"
   ]
  },
  {
   "cell_type": "code",
   "execution_count": 105,
   "metadata": {},
   "outputs": [],
   "source": [
    "def lookup():\n",
    "    artist = input(\"Who are you looking for? \")\n",
    "    if len(artist.split()) < 2:\n",
    "        url = 'https://www.lyrics.com/artist/' + artist.split(' ')[0].lower() \n",
    "    else:\n",
    "        url = 'https://www.lyrics.com/artist/' + artist.split(' ')[0].lower() \n",
    "    for i in range(1, len(artist.split())):\n",
    "        url = url + '%20' + artist.split(' ')[i].lower()\n",
    "    r = requests.get(url)\n",
    "    soup = BeautifulSoup(r.text, 'html.parser')\n",
    "    alb = []\n",
    "    s = []\n",
    "    ti = []\n",
    "    albums = soup.find_all('h3', {'class': 'artist-album-label'})\n",
    "    for i in albums:\n",
    "        alb.append(i.text)\n",
    "    songs = soup.find_all('td', {'class': 'tal qx'})\n",
    "    for i in songs[::2]:\n",
    "        s.append(i.text)\n",
    "    for i in songs[1::2]:\n",
    "        ti.append(i.text)\n",
    "    base = 'https://www.lyrics.com/'\n",
    "    l = []\n",
    "    for i in range(len(songs)):\n",
    "        if songs[i].a is None:\n",
    "            pass\n",
    "        else:\n",
    "            lyr = base + songs[i].a.attrs['href']\n",
    "            url = lyr\n",
    "            r = requests.get(url)\n",
    "            soup = BeautifulSoup(r.text, 'html.parser')\n",
    "            l.append(soup.find('pre', {'id': 'lyric-body-text'}).text)\n",
    "    df = pd.DataFrame({'song': s, 'time': ti, 'lyrics': l})\n",
    "    return df"
   ]
  },
  {
   "cell_type": "code",
   "execution_count": 106,
   "metadata": {},
   "outputs": [
    {
     "name": "stdout",
     "output_type": "stream",
     "text": [
      "Who are you looking for? Ariana Grande\n"
     ]
    },
    {
     "data": {
      "text/html": [
       "<div>\n",
       "<style scoped>\n",
       "    .dataframe tbody tr th:only-of-type {\n",
       "        vertical-align: middle;\n",
       "    }\n",
       "\n",
       "    .dataframe tbody tr th {\n",
       "        vertical-align: top;\n",
       "    }\n",
       "\n",
       "    .dataframe thead th {\n",
       "        text-align: right;\n",
       "    }\n",
       "</style>\n",
       "<table border=\"1\" class=\"dataframe\">\n",
       "  <thead>\n",
       "    <tr style=\"text-align: right;\">\n",
       "      <th></th>\n",
       "      <th>song</th>\n",
       "      <th>time</th>\n",
       "      <th>lyrics</th>\n",
       "    </tr>\n",
       "  </thead>\n",
       "  <tbody>\n",
       "  </tbody>\n",
       "</table>\n",
       "</div>"
      ],
      "text/plain": [
       "Empty DataFrame\n",
       "Columns: [song, time, lyrics]\n",
       "Index: []"
      ]
     },
     "execution_count": 106,
     "metadata": {},
     "output_type": "execute_result"
    }
   ],
   "source": [
    "lookup()"
   ]
  },
  {
   "cell_type": "code",
   "execution_count": 107,
   "metadata": {},
   "outputs": [
    {
     "name": "stdout",
     "output_type": "stream",
     "text": [
      "Who are you looking for? ariana grande\n"
     ]
    }
   ],
   "source": [
    "ariana = lookup()"
   ]
  },
  {
   "cell_type": "code",
   "execution_count": 108,
   "metadata": {},
   "outputs": [
    {
     "data": {
      "text/plain": [
       "pandas.core.frame.DataFrame"
      ]
     },
     "execution_count": 108,
     "metadata": {},
     "output_type": "execute_result"
    }
   ],
   "source": [
    "type(ariana)"
   ]
  },
  {
   "cell_type": "code",
   "execution_count": 109,
   "metadata": {},
   "outputs": [
    {
     "data": {
      "text/html": [
       "<div>\n",
       "<style scoped>\n",
       "    .dataframe tbody tr th:only-of-type {\n",
       "        vertical-align: middle;\n",
       "    }\n",
       "\n",
       "    .dataframe tbody tr th {\n",
       "        vertical-align: top;\n",
       "    }\n",
       "\n",
       "    .dataframe thead th {\n",
       "        text-align: right;\n",
       "    }\n",
       "</style>\n",
       "<table border=\"1\" class=\"dataframe\">\n",
       "  <thead>\n",
       "    <tr style=\"text-align: right;\">\n",
       "      <th></th>\n",
       "      <th>song</th>\n",
       "      <th>time</th>\n",
       "      <th>lyrics</th>\n",
       "    </tr>\n",
       "  </thead>\n",
       "  <tbody>\n",
       "  </tbody>\n",
       "</table>\n",
       "</div>"
      ],
      "text/plain": [
       "Empty DataFrame\n",
       "Columns: [song, time, lyrics]\n",
       "Index: []"
      ]
     },
     "execution_count": 109,
     "metadata": {},
     "output_type": "execute_result"
    }
   ],
   "source": [
    "ariana.head()"
   ]
  },
  {
   "cell_type": "code",
   "execution_count": null,
   "metadata": {},
   "outputs": [],
   "source": [
    "beatnuts = lookup()"
   ]
  },
  {
   "cell_type": "code",
   "execution_count": null,
   "metadata": {},
   "outputs": [],
   "source": [
    "beatnuts.head()"
   ]
  },
  {
   "cell_type": "code",
   "execution_count": null,
   "metadata": {},
   "outputs": [],
   "source": []
  }
 ],
 "metadata": {
  "kernelspec": {
   "display_name": "Python 3",
   "language": "python",
   "name": "python3"
  },
  "language_info": {
   "codemirror_mode": {
    "name": "ipython",
    "version": 3
   },
   "file_extension": ".py",
   "mimetype": "text/x-python",
   "name": "python",
   "nbconvert_exporter": "python",
   "pygments_lexer": "ipython3",
   "version": "3.6.5"
  }
 },
 "nbformat": 4,
 "nbformat_minor": 2
}
